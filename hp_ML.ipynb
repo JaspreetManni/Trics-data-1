{
  "nbformat": 4,
  "nbformat_minor": 0,
  "metadata": {
    "colab": {
      "name": "hp_ML",
      "provenance": [],
      "collapsed_sections": [],
      "mount_file_id": "13XtaXayaAdHuF_wqbBxTaFv1Giw28lIb",
      "authorship_tag": "ABX9TyOttZa2aD8wRjsJf9MkaEF0",
      "include_colab_link": true
    },
    "kernelspec": {
      "name": "python3",
      "display_name": "Python 3"
    },
    "language_info": {
      "name": "python"
    }
  },
  "cells": [
    {
      "cell_type": "markdown",
      "metadata": {
        "id": "view-in-github",
        "colab_type": "text"
      },
      "source": [
        "<a href=\"https://colab.research.google.com/github/JaspreetManni/Trics-data-1/blob/main/hp_ML.ipynb\" target=\"_parent\"><img src=\"https://colab.research.google.com/assets/colab-badge.svg\" alt=\"Open In Colab\"/></a>"
      ]
    },
    {
      "cell_type": "code",
      "execution_count": null,
      "metadata": {
        "id": "bCqLjXfELx1i"
      },
      "outputs": [],
      "source": [
        "import numpy as np\n",
        "import pandas as pd"
      ]
    },
    {
      "cell_type": "code",
      "source": [
        "hp=pd.read_csv('/content/drive/MyDrive/hp_ML.csv')\n",
        "hp.sample()"
      ],
      "metadata": {
        "colab": {
          "base_uri": "https://localhost:8080/",
          "height": 197
        },
        "id": "suOyybTdL2tQ",
        "outputId": "4bdf3f8c-c7fb-4c48-e9fa-72260ad2f615"
      },
      "execution_count": null,
      "outputs": [
        {
          "output_type": "execute_result",
          "data": {
            "text/plain": [
              "                date      price  bedrooms  bathrooms  sqft_living  sqft_lot  \\\n",
              "1952  05-06-14 00:00  1075000.0         5       4.75         5180     17811   \n",
              "\n",
              "      floors  waterfront  view  condition  sqft_above  sqft_basement  \\\n",
              "1952     2.0           0     2          3        4070           1110   \n",
              "\n",
              "      yr_built  yr_renovated               street        city  statezip  \\\n",
              "1952      2001             0  6766 Cascade Ave SE  Snoqualmie  WA 98065   \n",
              "\n",
              "     country  \n",
              "1952     USA  "
            ],
            "text/html": [
              "\n",
              "  <div id=\"df-5fed29c5-6d03-4b8a-acfc-891bbc730f06\">\n",
              "    <div class=\"colab-df-container\">\n",
              "      <div>\n",
              "<style scoped>\n",
              "    .dataframe tbody tr th:only-of-type {\n",
              "        vertical-align: middle;\n",
              "    }\n",
              "\n",
              "    .dataframe tbody tr th {\n",
              "        vertical-align: top;\n",
              "    }\n",
              "\n",
              "    .dataframe thead th {\n",
              "        text-align: right;\n",
              "    }\n",
              "</style>\n",
              "<table border=\"1\" class=\"dataframe\">\n",
              "  <thead>\n",
              "    <tr style=\"text-align: right;\">\n",
              "      <th></th>\n",
              "      <th>date</th>\n",
              "      <th>price</th>\n",
              "      <th>bedrooms</th>\n",
              "      <th>bathrooms</th>\n",
              "      <th>sqft_living</th>\n",
              "      <th>sqft_lot</th>\n",
              "      <th>floors</th>\n",
              "      <th>waterfront</th>\n",
              "      <th>view</th>\n",
              "      <th>condition</th>\n",
              "      <th>sqft_above</th>\n",
              "      <th>sqft_basement</th>\n",
              "      <th>yr_built</th>\n",
              "      <th>yr_renovated</th>\n",
              "      <th>street</th>\n",
              "      <th>city</th>\n",
              "      <th>statezip</th>\n",
              "      <th>country</th>\n",
              "    </tr>\n",
              "  </thead>\n",
              "  <tbody>\n",
              "    <tr>\n",
              "      <th>1952</th>\n",
              "      <td>05-06-14 00:00</td>\n",
              "      <td>1075000.0</td>\n",
              "      <td>5</td>\n",
              "      <td>4.75</td>\n",
              "      <td>5180</td>\n",
              "      <td>17811</td>\n",
              "      <td>2.0</td>\n",
              "      <td>0</td>\n",
              "      <td>2</td>\n",
              "      <td>3</td>\n",
              "      <td>4070</td>\n",
              "      <td>1110</td>\n",
              "      <td>2001</td>\n",
              "      <td>0</td>\n",
              "      <td>6766 Cascade Ave SE</td>\n",
              "      <td>Snoqualmie</td>\n",
              "      <td>WA 98065</td>\n",
              "      <td>USA</td>\n",
              "    </tr>\n",
              "  </tbody>\n",
              "</table>\n",
              "</div>\n",
              "      <button class=\"colab-df-convert\" onclick=\"convertToInteractive('df-5fed29c5-6d03-4b8a-acfc-891bbc730f06')\"\n",
              "              title=\"Convert this dataframe to an interactive table.\"\n",
              "              style=\"display:none;\">\n",
              "        \n",
              "  <svg xmlns=\"http://www.w3.org/2000/svg\" height=\"24px\"viewBox=\"0 0 24 24\"\n",
              "       width=\"24px\">\n",
              "    <path d=\"M0 0h24v24H0V0z\" fill=\"none\"/>\n",
              "    <path d=\"M18.56 5.44l.94 2.06.94-2.06 2.06-.94-2.06-.94-.94-2.06-.94 2.06-2.06.94zm-11 1L8.5 8.5l.94-2.06 2.06-.94-2.06-.94L8.5 2.5l-.94 2.06-2.06.94zm10 10l.94 2.06.94-2.06 2.06-.94-2.06-.94-.94-2.06-.94 2.06-2.06.94z\"/><path d=\"M17.41 7.96l-1.37-1.37c-.4-.4-.92-.59-1.43-.59-.52 0-1.04.2-1.43.59L10.3 9.45l-7.72 7.72c-.78.78-.78 2.05 0 2.83L4 21.41c.39.39.9.59 1.41.59.51 0 1.02-.2 1.41-.59l7.78-7.78 2.81-2.81c.8-.78.8-2.07 0-2.86zM5.41 20L4 18.59l7.72-7.72 1.47 1.35L5.41 20z\"/>\n",
              "  </svg>\n",
              "      </button>\n",
              "      \n",
              "  <style>\n",
              "    .colab-df-container {\n",
              "      display:flex;\n",
              "      flex-wrap:wrap;\n",
              "      gap: 12px;\n",
              "    }\n",
              "\n",
              "    .colab-df-convert {\n",
              "      background-color: #E8F0FE;\n",
              "      border: none;\n",
              "      border-radius: 50%;\n",
              "      cursor: pointer;\n",
              "      display: none;\n",
              "      fill: #1967D2;\n",
              "      height: 32px;\n",
              "      padding: 0 0 0 0;\n",
              "      width: 32px;\n",
              "    }\n",
              "\n",
              "    .colab-df-convert:hover {\n",
              "      background-color: #E2EBFA;\n",
              "      box-shadow: 0px 1px 2px rgba(60, 64, 67, 0.3), 0px 1px 3px 1px rgba(60, 64, 67, 0.15);\n",
              "      fill: #174EA6;\n",
              "    }\n",
              "\n",
              "    [theme=dark] .colab-df-convert {\n",
              "      background-color: #3B4455;\n",
              "      fill: #D2E3FC;\n",
              "    }\n",
              "\n",
              "    [theme=dark] .colab-df-convert:hover {\n",
              "      background-color: #434B5C;\n",
              "      box-shadow: 0px 1px 3px 1px rgba(0, 0, 0, 0.15);\n",
              "      filter: drop-shadow(0px 1px 2px rgba(0, 0, 0, 0.3));\n",
              "      fill: #FFFFFF;\n",
              "    }\n",
              "  </style>\n",
              "\n",
              "      <script>\n",
              "        const buttonEl =\n",
              "          document.querySelector('#df-5fed29c5-6d03-4b8a-acfc-891bbc730f06 button.colab-df-convert');\n",
              "        buttonEl.style.display =\n",
              "          google.colab.kernel.accessAllowed ? 'block' : 'none';\n",
              "\n",
              "        async function convertToInteractive(key) {\n",
              "          const element = document.querySelector('#df-5fed29c5-6d03-4b8a-acfc-891bbc730f06');\n",
              "          const dataTable =\n",
              "            await google.colab.kernel.invokeFunction('convertToInteractive',\n",
              "                                                     [key], {});\n",
              "          if (!dataTable) return;\n",
              "\n",
              "          const docLinkHtml = 'Like what you see? Visit the ' +\n",
              "            '<a target=\"_blank\" href=https://colab.research.google.com/notebooks/data_table.ipynb>data table notebook</a>'\n",
              "            + ' to learn more about interactive tables.';\n",
              "          element.innerHTML = '';\n",
              "          dataTable['output_type'] = 'display_data';\n",
              "          await google.colab.output.renderOutput(dataTable, element);\n",
              "          const docLink = document.createElement('div');\n",
              "          docLink.innerHTML = docLinkHtml;\n",
              "          element.appendChild(docLink);\n",
              "        }\n",
              "      </script>\n",
              "    </div>\n",
              "  </div>\n",
              "  "
            ]
          },
          "metadata": {},
          "execution_count": 4
        }
      ]
    },
    {
      "cell_type": "code",
      "source": [
        "hp.shape"
      ],
      "metadata": {
        "colab": {
          "base_uri": "https://localhost:8080/"
        },
        "id": "zOj1oeY6Xu77",
        "outputId": "7367e93a-8cf8-483f-e2be-73e9e6cc14b7"
      },
      "execution_count": null,
      "outputs": [
        {
          "output_type": "execute_result",
          "data": {
            "text/plain": [
              "(4600, 18)"
            ]
          },
          "metadata": {},
          "execution_count": 5
        }
      ]
    },
    {
      "cell_type": "code",
      "source": [
        "hp.isnull().sum()"
      ],
      "metadata": {
        "colab": {
          "base_uri": "https://localhost:8080/"
        },
        "id": "1KKatXIOXz4p",
        "outputId": "d4465fbb-531d-4de3-a0ab-4959f1ee63c5"
      },
      "execution_count": null,
      "outputs": [
        {
          "output_type": "execute_result",
          "data": {
            "text/plain": [
              "date             0\n",
              "price            0\n",
              "bedrooms         0\n",
              "bathrooms        0\n",
              "sqft_living      0\n",
              "sqft_lot         0\n",
              "floors           0\n",
              "waterfront       0\n",
              "view             0\n",
              "condition        0\n",
              "sqft_above       0\n",
              "sqft_basement    0\n",
              "yr_built         0\n",
              "yr_renovated     0\n",
              "street           0\n",
              "city             0\n",
              "statezip         0\n",
              "country          0\n",
              "dtype: int64"
            ]
          },
          "metadata": {},
          "execution_count": 6
        }
      ]
    },
    {
      "cell_type": "code",
      "source": [
        "to_drop=['date','street','statezip','country']\n",
        "hp_d=hp.drop(to_drop,axis=1)"
      ],
      "metadata": {
        "id": "2H_cjwPgX21X"
      },
      "execution_count": null,
      "outputs": []
    },
    {
      "cell_type": "code",
      "source": [
        "hp_d.head()"
      ],
      "metadata": {
        "colab": {
          "base_uri": "https://localhost:8080/",
          "height": 270
        },
        "id": "IlzKaeQwYKIP",
        "outputId": "d1388223-87af-45e0-de1e-464a4ca78b8b"
      },
      "execution_count": null,
      "outputs": [
        {
          "output_type": "execute_result",
          "data": {
            "text/plain": [
              "       price  bedrooms  bathrooms  sqft_living  sqft_lot  floors  waterfront  \\\n",
              "0   313000.0         3       1.50         1340      7912     1.5           0   \n",
              "1  2384000.0         5       2.50         3650      9050     2.0           0   \n",
              "2   342000.0         3       2.00         1930     11947     1.0           0   \n",
              "3   420000.0         3       2.25         2000      8030     1.0           0   \n",
              "4   550000.0         4       2.50         1940     10500     1.0           0   \n",
              "\n",
              "   view  condition  sqft_above  sqft_basement  yr_built  yr_renovated  \\\n",
              "0     0          3        1340              0      1955          2005   \n",
              "1     4          5        3370            280      1921             0   \n",
              "2     0          4        1930              0      1966             0   \n",
              "3     0          4        1000           1000      1963             0   \n",
              "4     0          4        1140            800      1976          1992   \n",
              "\n",
              "        city  \n",
              "0  Shoreline  \n",
              "1    Seattle  \n",
              "2       Kent  \n",
              "3   Bellevue  \n",
              "4    Redmond  "
            ],
            "text/html": [
              "\n",
              "  <div id=\"df-ba73f877-4afe-47d8-a74b-9b1026e1147e\">\n",
              "    <div class=\"colab-df-container\">\n",
              "      <div>\n",
              "<style scoped>\n",
              "    .dataframe tbody tr th:only-of-type {\n",
              "        vertical-align: middle;\n",
              "    }\n",
              "\n",
              "    .dataframe tbody tr th {\n",
              "        vertical-align: top;\n",
              "    }\n",
              "\n",
              "    .dataframe thead th {\n",
              "        text-align: right;\n",
              "    }\n",
              "</style>\n",
              "<table border=\"1\" class=\"dataframe\">\n",
              "  <thead>\n",
              "    <tr style=\"text-align: right;\">\n",
              "      <th></th>\n",
              "      <th>price</th>\n",
              "      <th>bedrooms</th>\n",
              "      <th>bathrooms</th>\n",
              "      <th>sqft_living</th>\n",
              "      <th>sqft_lot</th>\n",
              "      <th>floors</th>\n",
              "      <th>waterfront</th>\n",
              "      <th>view</th>\n",
              "      <th>condition</th>\n",
              "      <th>sqft_above</th>\n",
              "      <th>sqft_basement</th>\n",
              "      <th>yr_built</th>\n",
              "      <th>yr_renovated</th>\n",
              "      <th>city</th>\n",
              "    </tr>\n",
              "  </thead>\n",
              "  <tbody>\n",
              "    <tr>\n",
              "      <th>0</th>\n",
              "      <td>313000.0</td>\n",
              "      <td>3</td>\n",
              "      <td>1.50</td>\n",
              "      <td>1340</td>\n",
              "      <td>7912</td>\n",
              "      <td>1.5</td>\n",
              "      <td>0</td>\n",
              "      <td>0</td>\n",
              "      <td>3</td>\n",
              "      <td>1340</td>\n",
              "      <td>0</td>\n",
              "      <td>1955</td>\n",
              "      <td>2005</td>\n",
              "      <td>Shoreline</td>\n",
              "    </tr>\n",
              "    <tr>\n",
              "      <th>1</th>\n",
              "      <td>2384000.0</td>\n",
              "      <td>5</td>\n",
              "      <td>2.50</td>\n",
              "      <td>3650</td>\n",
              "      <td>9050</td>\n",
              "      <td>2.0</td>\n",
              "      <td>0</td>\n",
              "      <td>4</td>\n",
              "      <td>5</td>\n",
              "      <td>3370</td>\n",
              "      <td>280</td>\n",
              "      <td>1921</td>\n",
              "      <td>0</td>\n",
              "      <td>Seattle</td>\n",
              "    </tr>\n",
              "    <tr>\n",
              "      <th>2</th>\n",
              "      <td>342000.0</td>\n",
              "      <td>3</td>\n",
              "      <td>2.00</td>\n",
              "      <td>1930</td>\n",
              "      <td>11947</td>\n",
              "      <td>1.0</td>\n",
              "      <td>0</td>\n",
              "      <td>0</td>\n",
              "      <td>4</td>\n",
              "      <td>1930</td>\n",
              "      <td>0</td>\n",
              "      <td>1966</td>\n",
              "      <td>0</td>\n",
              "      <td>Kent</td>\n",
              "    </tr>\n",
              "    <tr>\n",
              "      <th>3</th>\n",
              "      <td>420000.0</td>\n",
              "      <td>3</td>\n",
              "      <td>2.25</td>\n",
              "      <td>2000</td>\n",
              "      <td>8030</td>\n",
              "      <td>1.0</td>\n",
              "      <td>0</td>\n",
              "      <td>0</td>\n",
              "      <td>4</td>\n",
              "      <td>1000</td>\n",
              "      <td>1000</td>\n",
              "      <td>1963</td>\n",
              "      <td>0</td>\n",
              "      <td>Bellevue</td>\n",
              "    </tr>\n",
              "    <tr>\n",
              "      <th>4</th>\n",
              "      <td>550000.0</td>\n",
              "      <td>4</td>\n",
              "      <td>2.50</td>\n",
              "      <td>1940</td>\n",
              "      <td>10500</td>\n",
              "      <td>1.0</td>\n",
              "      <td>0</td>\n",
              "      <td>0</td>\n",
              "      <td>4</td>\n",
              "      <td>1140</td>\n",
              "      <td>800</td>\n",
              "      <td>1976</td>\n",
              "      <td>1992</td>\n",
              "      <td>Redmond</td>\n",
              "    </tr>\n",
              "  </tbody>\n",
              "</table>\n",
              "</div>\n",
              "      <button class=\"colab-df-convert\" onclick=\"convertToInteractive('df-ba73f877-4afe-47d8-a74b-9b1026e1147e')\"\n",
              "              title=\"Convert this dataframe to an interactive table.\"\n",
              "              style=\"display:none;\">\n",
              "        \n",
              "  <svg xmlns=\"http://www.w3.org/2000/svg\" height=\"24px\"viewBox=\"0 0 24 24\"\n",
              "       width=\"24px\">\n",
              "    <path d=\"M0 0h24v24H0V0z\" fill=\"none\"/>\n",
              "    <path d=\"M18.56 5.44l.94 2.06.94-2.06 2.06-.94-2.06-.94-.94-2.06-.94 2.06-2.06.94zm-11 1L8.5 8.5l.94-2.06 2.06-.94-2.06-.94L8.5 2.5l-.94 2.06-2.06.94zm10 10l.94 2.06.94-2.06 2.06-.94-2.06-.94-.94-2.06-.94 2.06-2.06.94z\"/><path d=\"M17.41 7.96l-1.37-1.37c-.4-.4-.92-.59-1.43-.59-.52 0-1.04.2-1.43.59L10.3 9.45l-7.72 7.72c-.78.78-.78 2.05 0 2.83L4 21.41c.39.39.9.59 1.41.59.51 0 1.02-.2 1.41-.59l7.78-7.78 2.81-2.81c.8-.78.8-2.07 0-2.86zM5.41 20L4 18.59l7.72-7.72 1.47 1.35L5.41 20z\"/>\n",
              "  </svg>\n",
              "      </button>\n",
              "      \n",
              "  <style>\n",
              "    .colab-df-container {\n",
              "      display:flex;\n",
              "      flex-wrap:wrap;\n",
              "      gap: 12px;\n",
              "    }\n",
              "\n",
              "    .colab-df-convert {\n",
              "      background-color: #E8F0FE;\n",
              "      border: none;\n",
              "      border-radius: 50%;\n",
              "      cursor: pointer;\n",
              "      display: none;\n",
              "      fill: #1967D2;\n",
              "      height: 32px;\n",
              "      padding: 0 0 0 0;\n",
              "      width: 32px;\n",
              "    }\n",
              "\n",
              "    .colab-df-convert:hover {\n",
              "      background-color: #E2EBFA;\n",
              "      box-shadow: 0px 1px 2px rgba(60, 64, 67, 0.3), 0px 1px 3px 1px rgba(60, 64, 67, 0.15);\n",
              "      fill: #174EA6;\n",
              "    }\n",
              "\n",
              "    [theme=dark] .colab-df-convert {\n",
              "      background-color: #3B4455;\n",
              "      fill: #D2E3FC;\n",
              "    }\n",
              "\n",
              "    [theme=dark] .colab-df-convert:hover {\n",
              "      background-color: #434B5C;\n",
              "      box-shadow: 0px 1px 3px 1px rgba(0, 0, 0, 0.15);\n",
              "      filter: drop-shadow(0px 1px 2px rgba(0, 0, 0, 0.3));\n",
              "      fill: #FFFFFF;\n",
              "    }\n",
              "  </style>\n",
              "\n",
              "      <script>\n",
              "        const buttonEl =\n",
              "          document.querySelector('#df-ba73f877-4afe-47d8-a74b-9b1026e1147e button.colab-df-convert');\n",
              "        buttonEl.style.display =\n",
              "          google.colab.kernel.accessAllowed ? 'block' : 'none';\n",
              "\n",
              "        async function convertToInteractive(key) {\n",
              "          const element = document.querySelector('#df-ba73f877-4afe-47d8-a74b-9b1026e1147e');\n",
              "          const dataTable =\n",
              "            await google.colab.kernel.invokeFunction('convertToInteractive',\n",
              "                                                     [key], {});\n",
              "          if (!dataTable) return;\n",
              "\n",
              "          const docLinkHtml = 'Like what you see? Visit the ' +\n",
              "            '<a target=\"_blank\" href=https://colab.research.google.com/notebooks/data_table.ipynb>data table notebook</a>'\n",
              "            + ' to learn more about interactive tables.';\n",
              "          element.innerHTML = '';\n",
              "          dataTable['output_type'] = 'display_data';\n",
              "          await google.colab.output.renderOutput(dataTable, element);\n",
              "          const docLink = document.createElement('div');\n",
              "          docLink.innerHTML = docLinkHtml;\n",
              "          element.appendChild(docLink);\n",
              "        }\n",
              "      </script>\n",
              "    </div>\n",
              "  </div>\n",
              "  "
            ]
          },
          "metadata": {},
          "execution_count": 8
        }
      ]
    },
    {
      "cell_type": "code",
      "source": [
        "hp_d['house_age']=[2022-yr_built for yr_built in hp_d['yr_built']]"
      ],
      "metadata": {
        "id": "iRn8V95XYMyY"
      },
      "execution_count": null,
      "outputs": []
    },
    {
      "cell_type": "code",
      "source": [
        "hp_d['was_renovated'] = [1 if yr_renovated != 0 else 0 for yr_renovated in hp_d['yr_renovated']]\n",
        "hp_d['was_renovated_10_yrs'] = [1 if (2022 - yr_renovated) <= 10 else 0 for yr_renovated in hp_d['yr_renovated']]\n",
        "hp_d['was_renovated_30_yrs'] = [1 if 10 < (2022 - yr_renovated) <= 30 else 0 for yr_renovated in hp_d['yr_renovated']]"
      ],
      "metadata": {
        "id": "NoFYwKWsYPz_"
      },
      "execution_count": null,
      "outputs": []
    },
    {
      "cell_type": "code",
      "source": [
        "hp_2d=hp_d.drop(['yr_built','yr_renovated'],axis=1)"
      ],
      "metadata": {
        "id": "ojenFYkjYTve"
      },
      "execution_count": null,
      "outputs": []
    },
    {
      "cell_type": "code",
      "source": [
        "hp_2d.head()"
      ],
      "metadata": {
        "colab": {
          "base_uri": "https://localhost:8080/",
          "height": 270
        },
        "id": "3w7O6w6zYWlt",
        "outputId": "d61560aa-0dfd-4cf5-871e-633d282fbf5a"
      },
      "execution_count": null,
      "outputs": [
        {
          "output_type": "execute_result",
          "data": {
            "text/plain": [
              "       price  bedrooms  bathrooms  sqft_living  sqft_lot  floors  waterfront  \\\n",
              "0   313000.0         3       1.50         1340      7912     1.5           0   \n",
              "1  2384000.0         5       2.50         3650      9050     2.0           0   \n",
              "2   342000.0         3       2.00         1930     11947     1.0           0   \n",
              "3   420000.0         3       2.25         2000      8030     1.0           0   \n",
              "4   550000.0         4       2.50         1940     10500     1.0           0   \n",
              "\n",
              "   view  condition  sqft_above  sqft_basement       city  house_age  \\\n",
              "0     0          3        1340              0  Shoreline         67   \n",
              "1     4          5        3370            280    Seattle        101   \n",
              "2     0          4        1930              0       Kent         56   \n",
              "3     0          4        1000           1000   Bellevue         59   \n",
              "4     0          4        1140            800    Redmond         46   \n",
              "\n",
              "   was_renovated  was_renovated_10_yrs  was_renovated_30_yrs  \n",
              "0              1                     0                     1  \n",
              "1              0                     0                     0  \n",
              "2              0                     0                     0  \n",
              "3              0                     0                     0  \n",
              "4              1                     0                     1  "
            ],
            "text/html": [
              "\n",
              "  <div id=\"df-99fa9a40-5753-474f-8b56-f51edb82e0e9\">\n",
              "    <div class=\"colab-df-container\">\n",
              "      <div>\n",
              "<style scoped>\n",
              "    .dataframe tbody tr th:only-of-type {\n",
              "        vertical-align: middle;\n",
              "    }\n",
              "\n",
              "    .dataframe tbody tr th {\n",
              "        vertical-align: top;\n",
              "    }\n",
              "\n",
              "    .dataframe thead th {\n",
              "        text-align: right;\n",
              "    }\n",
              "</style>\n",
              "<table border=\"1\" class=\"dataframe\">\n",
              "  <thead>\n",
              "    <tr style=\"text-align: right;\">\n",
              "      <th></th>\n",
              "      <th>price</th>\n",
              "      <th>bedrooms</th>\n",
              "      <th>bathrooms</th>\n",
              "      <th>sqft_living</th>\n",
              "      <th>sqft_lot</th>\n",
              "      <th>floors</th>\n",
              "      <th>waterfront</th>\n",
              "      <th>view</th>\n",
              "      <th>condition</th>\n",
              "      <th>sqft_above</th>\n",
              "      <th>sqft_basement</th>\n",
              "      <th>city</th>\n",
              "      <th>house_age</th>\n",
              "      <th>was_renovated</th>\n",
              "      <th>was_renovated_10_yrs</th>\n",
              "      <th>was_renovated_30_yrs</th>\n",
              "    </tr>\n",
              "  </thead>\n",
              "  <tbody>\n",
              "    <tr>\n",
              "      <th>0</th>\n",
              "      <td>313000.0</td>\n",
              "      <td>3</td>\n",
              "      <td>1.50</td>\n",
              "      <td>1340</td>\n",
              "      <td>7912</td>\n",
              "      <td>1.5</td>\n",
              "      <td>0</td>\n",
              "      <td>0</td>\n",
              "      <td>3</td>\n",
              "      <td>1340</td>\n",
              "      <td>0</td>\n",
              "      <td>Shoreline</td>\n",
              "      <td>67</td>\n",
              "      <td>1</td>\n",
              "      <td>0</td>\n",
              "      <td>1</td>\n",
              "    </tr>\n",
              "    <tr>\n",
              "      <th>1</th>\n",
              "      <td>2384000.0</td>\n",
              "      <td>5</td>\n",
              "      <td>2.50</td>\n",
              "      <td>3650</td>\n",
              "      <td>9050</td>\n",
              "      <td>2.0</td>\n",
              "      <td>0</td>\n",
              "      <td>4</td>\n",
              "      <td>5</td>\n",
              "      <td>3370</td>\n",
              "      <td>280</td>\n",
              "      <td>Seattle</td>\n",
              "      <td>101</td>\n",
              "      <td>0</td>\n",
              "      <td>0</td>\n",
              "      <td>0</td>\n",
              "    </tr>\n",
              "    <tr>\n",
              "      <th>2</th>\n",
              "      <td>342000.0</td>\n",
              "      <td>3</td>\n",
              "      <td>2.00</td>\n",
              "      <td>1930</td>\n",
              "      <td>11947</td>\n",
              "      <td>1.0</td>\n",
              "      <td>0</td>\n",
              "      <td>0</td>\n",
              "      <td>4</td>\n",
              "      <td>1930</td>\n",
              "      <td>0</td>\n",
              "      <td>Kent</td>\n",
              "      <td>56</td>\n",
              "      <td>0</td>\n",
              "      <td>0</td>\n",
              "      <td>0</td>\n",
              "    </tr>\n",
              "    <tr>\n",
              "      <th>3</th>\n",
              "      <td>420000.0</td>\n",
              "      <td>3</td>\n",
              "      <td>2.25</td>\n",
              "      <td>2000</td>\n",
              "      <td>8030</td>\n",
              "      <td>1.0</td>\n",
              "      <td>0</td>\n",
              "      <td>0</td>\n",
              "      <td>4</td>\n",
              "      <td>1000</td>\n",
              "      <td>1000</td>\n",
              "      <td>Bellevue</td>\n",
              "      <td>59</td>\n",
              "      <td>0</td>\n",
              "      <td>0</td>\n",
              "      <td>0</td>\n",
              "    </tr>\n",
              "    <tr>\n",
              "      <th>4</th>\n",
              "      <td>550000.0</td>\n",
              "      <td>4</td>\n",
              "      <td>2.50</td>\n",
              "      <td>1940</td>\n",
              "      <td>10500</td>\n",
              "      <td>1.0</td>\n",
              "      <td>0</td>\n",
              "      <td>0</td>\n",
              "      <td>4</td>\n",
              "      <td>1140</td>\n",
              "      <td>800</td>\n",
              "      <td>Redmond</td>\n",
              "      <td>46</td>\n",
              "      <td>1</td>\n",
              "      <td>0</td>\n",
              "      <td>1</td>\n",
              "    </tr>\n",
              "  </tbody>\n",
              "</table>\n",
              "</div>\n",
              "      <button class=\"colab-df-convert\" onclick=\"convertToInteractive('df-99fa9a40-5753-474f-8b56-f51edb82e0e9')\"\n",
              "              title=\"Convert this dataframe to an interactive table.\"\n",
              "              style=\"display:none;\">\n",
              "        \n",
              "  <svg xmlns=\"http://www.w3.org/2000/svg\" height=\"24px\"viewBox=\"0 0 24 24\"\n",
              "       width=\"24px\">\n",
              "    <path d=\"M0 0h24v24H0V0z\" fill=\"none\"/>\n",
              "    <path d=\"M18.56 5.44l.94 2.06.94-2.06 2.06-.94-2.06-.94-.94-2.06-.94 2.06-2.06.94zm-11 1L8.5 8.5l.94-2.06 2.06-.94-2.06-.94L8.5 2.5l-.94 2.06-2.06.94zm10 10l.94 2.06.94-2.06 2.06-.94-2.06-.94-.94-2.06-.94 2.06-2.06.94z\"/><path d=\"M17.41 7.96l-1.37-1.37c-.4-.4-.92-.59-1.43-.59-.52 0-1.04.2-1.43.59L10.3 9.45l-7.72 7.72c-.78.78-.78 2.05 0 2.83L4 21.41c.39.39.9.59 1.41.59.51 0 1.02-.2 1.41-.59l7.78-7.78 2.81-2.81c.8-.78.8-2.07 0-2.86zM5.41 20L4 18.59l7.72-7.72 1.47 1.35L5.41 20z\"/>\n",
              "  </svg>\n",
              "      </button>\n",
              "      \n",
              "  <style>\n",
              "    .colab-df-container {\n",
              "      display:flex;\n",
              "      flex-wrap:wrap;\n",
              "      gap: 12px;\n",
              "    }\n",
              "\n",
              "    .colab-df-convert {\n",
              "      background-color: #E8F0FE;\n",
              "      border: none;\n",
              "      border-radius: 50%;\n",
              "      cursor: pointer;\n",
              "      display: none;\n",
              "      fill: #1967D2;\n",
              "      height: 32px;\n",
              "      padding: 0 0 0 0;\n",
              "      width: 32px;\n",
              "    }\n",
              "\n",
              "    .colab-df-convert:hover {\n",
              "      background-color: #E2EBFA;\n",
              "      box-shadow: 0px 1px 2px rgba(60, 64, 67, 0.3), 0px 1px 3px 1px rgba(60, 64, 67, 0.15);\n",
              "      fill: #174EA6;\n",
              "    }\n",
              "\n",
              "    [theme=dark] .colab-df-convert {\n",
              "      background-color: #3B4455;\n",
              "      fill: #D2E3FC;\n",
              "    }\n",
              "\n",
              "    [theme=dark] .colab-df-convert:hover {\n",
              "      background-color: #434B5C;\n",
              "      box-shadow: 0px 1px 3px 1px rgba(0, 0, 0, 0.15);\n",
              "      filter: drop-shadow(0px 1px 2px rgba(0, 0, 0, 0.3));\n",
              "      fill: #FFFFFF;\n",
              "    }\n",
              "  </style>\n",
              "\n",
              "      <script>\n",
              "        const buttonEl =\n",
              "          document.querySelector('#df-99fa9a40-5753-474f-8b56-f51edb82e0e9 button.colab-df-convert');\n",
              "        buttonEl.style.display =\n",
              "          google.colab.kernel.accessAllowed ? 'block' : 'none';\n",
              "\n",
              "        async function convertToInteractive(key) {\n",
              "          const element = document.querySelector('#df-99fa9a40-5753-474f-8b56-f51edb82e0e9');\n",
              "          const dataTable =\n",
              "            await google.colab.kernel.invokeFunction('convertToInteractive',\n",
              "                                                     [key], {});\n",
              "          if (!dataTable) return;\n",
              "\n",
              "          const docLinkHtml = 'Like what you see? Visit the ' +\n",
              "            '<a target=\"_blank\" href=https://colab.research.google.com/notebooks/data_table.ipynb>data table notebook</a>'\n",
              "            + ' to learn more about interactive tables.';\n",
              "          element.innerHTML = '';\n",
              "          dataTable['output_type'] = 'display_data';\n",
              "          await google.colab.output.renderOutput(dataTable, element);\n",
              "          const docLink = document.createElement('div');\n",
              "          docLink.innerHTML = docLinkHtml;\n",
              "          element.appendChild(docLink);\n",
              "        }\n",
              "      </script>\n",
              "    </div>\n",
              "  </div>\n",
              "  "
            ]
          },
          "metadata": {},
          "execution_count": 12
        }
      ]
    },
    {
      "cell_type": "code",
      "source": [
        "hp_2d['city'].value_counts()"
      ],
      "metadata": {
        "colab": {
          "base_uri": "https://localhost:8080/"
        },
        "id": "vvwxoagrYZjm",
        "outputId": "fa6580e8-c2e3-4fd6-9263-ffb4475a87d0"
      },
      "execution_count": null,
      "outputs": [
        {
          "output_type": "execute_result",
          "data": {
            "text/plain": [
              "Seattle                1573\n",
              "Renton                  293\n",
              "Bellevue                286\n",
              "Redmond                 235\n",
              "Issaquah                187\n",
              "Kirkland                187\n",
              "Kent                    185\n",
              "Auburn                  176\n",
              "Sammamish               175\n",
              "Federal Way             148\n",
              "Shoreline               123\n",
              "Woodinville             115\n",
              "Maple Valley             96\n",
              "Mercer Island            86\n",
              "Burien                   74\n",
              "Snoqualmie               71\n",
              "Kenmore                  66\n",
              "Des Moines               58\n",
              "North Bend               50\n",
              "Covington                43\n",
              "Duvall                   42\n",
              "Lake Forest Park         36\n",
              "Bothell                  33\n",
              "Newcastle                33\n",
              "SeaTac                   29\n",
              "Tukwila                  29\n",
              "Vashon                   29\n",
              "Enumclaw                 28\n",
              "Carnation                22\n",
              "Normandy Park            18\n",
              "Clyde Hill               11\n",
              "Medina                   11\n",
              "Fall City                11\n",
              "Black Diamond             9\n",
              "Ravensdale                7\n",
              "Pacific                   6\n",
              "Algona                    5\n",
              "Yarrow Point              4\n",
              "Skykomish                 3\n",
              "Preston                   2\n",
              "Milton                    2\n",
              "Inglewood-Finn Hill       1\n",
              "Snoqualmie Pass           1\n",
              "Beaux Arts Village        1\n",
              "Name: city, dtype: int64"
            ]
          },
          "metadata": {},
          "execution_count": 13
        }
      ]
    },
    {
      "cell_type": "code",
      "source": [
        "def remap_location(data: pd.DataFrame, location: str, threshold: int = 50) -> str:\n",
        "    if len(hp_2d[hp_2d['city'] == location]) < threshold:\n",
        "        return 'Rare'\n",
        "    return location"
      ],
      "metadata": {
        "id": "fPyH5XNaYckY"
      },
      "execution_count": null,
      "outputs": []
    },
    {
      "cell_type": "code",
      "source": [
        "remap_location(hp_2d,location='milton')"
      ],
      "metadata": {
        "colab": {
          "base_uri": "https://localhost:8080/",
          "height": 36
        },
        "id": "7v2oOXpWYgJF",
        "outputId": "34ab04e0-25de-4cc3-87fd-2ae2f54d56fe"
      },
      "execution_count": null,
      "outputs": [
        {
          "output_type": "execute_result",
          "data": {
            "text/plain": [
              "'Rare'"
            ],
            "application/vnd.google.colaboratory.intrinsic+json": {
              "type": "string"
            }
          },
          "metadata": {},
          "execution_count": 15
        }
      ]
    },
    {
      "cell_type": "code",
      "source": [
        "remap_location(hp_2d,location='Seattle')"
      ],
      "metadata": {
        "colab": {
          "base_uri": "https://localhost:8080/",
          "height": 36
        },
        "id": "XbkT1pFtYj1u",
        "outputId": "4f10988f-278b-4e5e-808d-dda833c72a94"
      },
      "execution_count": null,
      "outputs": [
        {
          "output_type": "execute_result",
          "data": {
            "text/plain": [
              "'Seattle'"
            ],
            "application/vnd.google.colaboratory.intrinsic+json": {
              "type": "string"
            }
          },
          "metadata": {},
          "execution_count": 16
        }
      ]
    },
    {
      "cell_type": "code",
      "source": [
        "hp_2d['city'] = hp_2d['city'].apply(lambda x: remap_location(hp_2d, location=x))\n",
        "hp_2d['city']"
      ],
      "metadata": {
        "colab": {
          "base_uri": "https://localhost:8080/"
        },
        "id": "jMljtfZ2YmW5",
        "outputId": "452a31ba-2f72-4ec8-a7e5-65c630bb88aa"
      },
      "execution_count": null,
      "outputs": [
        {
          "output_type": "execute_result",
          "data": {
            "text/plain": [
              "0       Shoreline\n",
              "1         Seattle\n",
              "2            Kent\n",
              "3        Bellevue\n",
              "4         Redmond\n",
              "          ...    \n",
              "4595      Seattle\n",
              "4596     Bellevue\n",
              "4597       Renton\n",
              "4598      Seattle\n",
              "4599         Rare\n",
              "Name: city, Length: 4600, dtype: object"
            ]
          },
          "metadata": {},
          "execution_count": 17
        }
      ]
    },
    {
      "cell_type": "code",
      "source": [
        "from sklearn.compose import make_column_transformer\n",
        "from sklearn.preprocessing import MinMaxScaler, OneHotEncoder\n",
        "\n",
        "transformer = make_column_transformer(\n",
        "    (MinMaxScaler(), ['sqft_living', 'sqft_lot', 'sqft_above', 'sqft_basement', 'house_age']),\n",
        "    (OneHotEncoder(handle_unknown='ignore'), ['bedrooms', 'bathrooms', 'floors', 'view', 'condition'])\n",
        ")"
      ],
      "metadata": {
        "id": "OH8KLuRVYpFD"
      },
      "execution_count": null,
      "outputs": []
    },
    {
      "cell_type": "code",
      "source": [
        "from sklearn.model_selection import train_test_split\n",
        "X=hp_2d.drop('price',axis=1)\n",
        "Y=hp_2d['price']"
      ],
      "metadata": {
        "id": "dyWPy3_WY3gl"
      },
      "execution_count": null,
      "outputs": []
    },
    {
      "cell_type": "code",
      "source": [
        "X_train,X_test,Y_train,Y_test=train_test_split(X,Y,train_size=0.8,random_state=42)"
      ],
      "metadata": {
        "id": "Kf0uMkxrY6IM"
      },
      "execution_count": null,
      "outputs": []
    },
    {
      "cell_type": "code",
      "source": [
        "X_train.shape,X_test.shape,Y_train.shape,Y_test.shape"
      ],
      "metadata": {
        "colab": {
          "base_uri": "https://localhost:8080/"
        },
        "id": "XGRT4V2dY8Nr",
        "outputId": "75e94966-41c4-4c52-e164-1b895c88a0e1"
      },
      "execution_count": null,
      "outputs": [
        {
          "output_type": "execute_result",
          "data": {
            "text/plain": [
              "((3680, 15), (920, 15), (3680,), (920,))"
            ]
          },
          "metadata": {},
          "execution_count": 22
        }
      ]
    },
    {
      "cell_type": "code",
      "source": [
        "# Fit on the train set\n",
        "transformer.fit(X_train)\n",
        "\n",
        "# Apply the transformation\n",
        "X_train_tf = transformer.transform(X_train)\n",
        "X_test_tf = transformer.transform(X_test)"
      ],
      "metadata": {
        "id": "mvRuLJNsY-pS"
      },
      "execution_count": null,
      "outputs": []
    },
    {
      "cell_type": "code",
      "source": [
        "X_train_tf.shape, X_test_tf.shape"
      ],
      "metadata": {
        "colab": {
          "base_uri": "https://localhost:8080/"
        },
        "id": "QL8qPU53ZBOq",
        "outputId": "1f090e53-f87d-45c5-f37f-d2915725e3e4"
      },
      "execution_count": null,
      "outputs": [
        {
          "output_type": "execute_result",
          "data": {
            "text/plain": [
              "((3680, 55), (920, 55))"
            ]
          },
          "metadata": {},
          "execution_count": 24
        }
      ]
    },
    {
      "cell_type": "code",
      "source": [
        "X_train_tf"
      ],
      "metadata": {
        "colab": {
          "base_uri": "https://localhost:8080/"
        },
        "id": "DVAj7EGEZDhr",
        "outputId": "1da4a607-33a9-4a42-f2b3-7741fbfda2ec"
      },
      "execution_count": null,
      "outputs": [
        {
          "output_type": "execute_result",
          "data": {
            "text/plain": [
              "<3680x55 sparse matrix of type '<class 'numpy.float64'>'\n",
              "\twith 34559 stored elements in Compressed Sparse Row format>"
            ]
          },
          "metadata": {},
          "execution_count": 25
        }
      ]
    },
    {
      "cell_type": "code",
      "source": [
        "X_train_tf.toarray()"
      ],
      "metadata": {
        "colab": {
          "base_uri": "https://localhost:8080/"
        },
        "id": "xPvdxNQFZFyj",
        "outputId": "67f3c172-90ca-45bf-bc5d-bf385ff4a012"
      },
      "execution_count": null,
      "outputs": [
        {
          "output_type": "execute_result",
          "data": {
            "text/plain": [
              "array([[0.24819028, 0.04180033, 0.31372549, ..., 0.        , 1.        ,\n",
              "        0.        ],\n",
              "       [0.34643226, 0.02645821, 0.4379085 , ..., 1.        , 0.        ,\n",
              "        0.        ],\n",
              "       [0.25232678, 0.00976359, 0.31895425, ..., 1.        , 0.        ,\n",
              "        0.        ],\n",
              "       ...,\n",
              "       [0.08066184, 0.00699249, 0.08104575, ..., 0.        , 1.        ,\n",
              "        0.        ],\n",
              "       [0.05584281, 0.00127052, 0.07058824, ..., 1.        , 0.        ,\n",
              "        0.        ],\n",
              "       [0.11582213, 0.00296857, 0.06405229, ..., 1.        , 0.        ,\n",
              "        0.        ]])"
            ]
          },
          "metadata": {},
          "execution_count": 26
        }
      ]
    },
    {
      "cell_type": "code",
      "source": [
        "X_train_tf_2A=X_train_tf.toarray()\n",
        "X_test_tf_2A=X_test_tf.toarray()"
      ],
      "metadata": {
        "id": "tADC8KkPZIeA"
      },
      "execution_count": null,
      "outputs": []
    },
    {
      "cell_type": "code",
      "source": [
        "import tensorflow as tf\n",
        "from tensorflow.keras import Sequential\n",
        "from tensorflow.keras.layers import Dense\n",
        "from tensorflow.keras.optimizers import Adam\n",
        "from tensorflow.keras import backend as K"
      ],
      "metadata": {
        "id": "784YA3O0ZLfT"
      },
      "execution_count": null,
      "outputs": []
    },
    {
      "cell_type": "code",
      "source": [
        "def rmse(Y_true,Y_pred):\n",
        "  return K.sqrt(K.mean(K.square(Y_pred-Y_true)))"
      ],
      "metadata": {
        "id": "ftUJYnm3ZNqt"
      },
      "execution_count": null,
      "outputs": []
    },
    {
      "cell_type": "code",
      "source": [
        "tf.random.set_seed(42)\n",
        "\n",
        "model = Sequential([\n",
        "    Dense(256, activation='relu'),\n",
        "    Dense(256, activation='relu'),\n",
        "    Dense(128, activation='relu'),\n",
        "    Dense(1)\n",
        "])\n",
        "\n",
        "model.compile(\n",
        "    loss=rmse,\n",
        "    optimizer=Adam(),\n",
        "    metrics=[rmse]\n",
        ")\n",
        "\n",
        "model.fit(X_train_tf_2A, Y_train, epochs=100)"
      ],
      "metadata": {
        "colab": {
          "base_uri": "https://localhost:8080/"
        },
        "id": "SbOXUSH5ZQYg",
        "outputId": "beda5817-f4b7-484d-e1a4-94eba5cc618b"
      },
      "execution_count": null,
      "outputs": [
        {
          "output_type": "stream",
          "name": "stdout",
          "text": [
            "Epoch 1/100\n",
            "115/115 [==============================] - 3s 6ms/step - loss: 645256.5000 - rmse: 645256.5000\n",
            "Epoch 2/100\n",
            "115/115 [==============================] - 1s 5ms/step - loss: 472777.0000 - rmse: 472777.0000\n",
            "Epoch 3/100\n",
            "115/115 [==============================] - 1s 6ms/step - loss: 320366.8125 - rmse: 320366.8125\n",
            "Epoch 4/100\n",
            "115/115 [==============================] - 1s 6ms/step - loss: 302853.5938 - rmse: 302853.5938\n",
            "Epoch 5/100\n",
            "115/115 [==============================] - 1s 6ms/step - loss: 289253.6875 - rmse: 289253.6875\n",
            "Epoch 6/100\n",
            "115/115 [==============================] - 1s 5ms/step - loss: 283769.0312 - rmse: 283769.0312\n",
            "Epoch 7/100\n",
            "115/115 [==============================] - 1s 6ms/step - loss: 276238.3750 - rmse: 276238.3750\n",
            "Epoch 8/100\n",
            "115/115 [==============================] - 1s 6ms/step - loss: 269233.4062 - rmse: 269233.4062\n",
            "Epoch 9/100\n",
            "115/115 [==============================] - 1s 7ms/step - loss: 267988.3125 - rmse: 267988.3125\n",
            "Epoch 10/100\n",
            "115/115 [==============================] - 1s 5ms/step - loss: 263329.4062 - rmse: 263329.4062\n",
            "Epoch 11/100\n",
            "115/115 [==============================] - 0s 3ms/step - loss: 261457.2812 - rmse: 261457.2812\n",
            "Epoch 12/100\n",
            "115/115 [==============================] - 0s 3ms/step - loss: 256144.9375 - rmse: 256144.9375\n",
            "Epoch 13/100\n",
            "115/115 [==============================] - 0s 3ms/step - loss: 255904.9844 - rmse: 255904.9844\n",
            "Epoch 14/100\n",
            "115/115 [==============================] - 0s 3ms/step - loss: 255290.6094 - rmse: 255290.6094\n",
            "Epoch 15/100\n",
            "115/115 [==============================] - 0s 3ms/step - loss: 255322.1094 - rmse: 255322.1094\n",
            "Epoch 16/100\n",
            "115/115 [==============================] - 0s 3ms/step - loss: 254979.3594 - rmse: 254979.3594\n",
            "Epoch 17/100\n",
            "115/115 [==============================] - 0s 3ms/step - loss: 251213.0312 - rmse: 251213.0312\n",
            "Epoch 18/100\n",
            "115/115 [==============================] - 0s 3ms/step - loss: 249742.4219 - rmse: 249742.4219\n",
            "Epoch 19/100\n",
            "115/115 [==============================] - 0s 3ms/step - loss: 249309.2969 - rmse: 249309.2969\n",
            "Epoch 20/100\n",
            "115/115 [==============================] - 0s 3ms/step - loss: 247876.1562 - rmse: 247876.1562\n",
            "Epoch 21/100\n",
            "115/115 [==============================] - 0s 3ms/step - loss: 246876.6562 - rmse: 246876.6562\n",
            "Epoch 22/100\n",
            "115/115 [==============================] - 0s 3ms/step - loss: 243672.7188 - rmse: 243672.7188\n",
            "Epoch 23/100\n",
            "115/115 [==============================] - 0s 3ms/step - loss: 246428.3125 - rmse: 246428.3125\n",
            "Epoch 24/100\n",
            "115/115 [==============================] - 0s 3ms/step - loss: 243619.5781 - rmse: 243619.5781\n",
            "Epoch 25/100\n",
            "115/115 [==============================] - 0s 3ms/step - loss: 245960.3438 - rmse: 245960.3438\n",
            "Epoch 26/100\n",
            "115/115 [==============================] - 0s 3ms/step - loss: 242571.7500 - rmse: 242571.7500\n",
            "Epoch 27/100\n",
            "115/115 [==============================] - 0s 3ms/step - loss: 243739.3281 - rmse: 243739.3281\n",
            "Epoch 28/100\n",
            "115/115 [==============================] - 0s 3ms/step - loss: 242777.8281 - rmse: 242777.8281\n",
            "Epoch 29/100\n",
            "115/115 [==============================] - 0s 3ms/step - loss: 240087.0781 - rmse: 240087.0781\n",
            "Epoch 30/100\n",
            "115/115 [==============================] - 0s 3ms/step - loss: 239666.0938 - rmse: 239666.0938\n",
            "Epoch 31/100\n",
            "115/115 [==============================] - 0s 3ms/step - loss: 241850.8281 - rmse: 241850.8281\n",
            "Epoch 32/100\n",
            "115/115 [==============================] - 0s 3ms/step - loss: 238661.5156 - rmse: 238661.5156\n",
            "Epoch 33/100\n",
            "115/115 [==============================] - 0s 3ms/step - loss: 238373.1875 - rmse: 238373.1875\n",
            "Epoch 34/100\n",
            "115/115 [==============================] - 0s 3ms/step - loss: 238709.3281 - rmse: 238709.3281\n",
            "Epoch 35/100\n",
            "115/115 [==============================] - 0s 3ms/step - loss: 238917.8594 - rmse: 238917.8594\n",
            "Epoch 36/100\n",
            "115/115 [==============================] - 0s 3ms/step - loss: 238828.5000 - rmse: 238828.5000\n",
            "Epoch 37/100\n",
            "115/115 [==============================] - 0s 3ms/step - loss: 234227.9531 - rmse: 234227.9531\n",
            "Epoch 38/100\n",
            "115/115 [==============================] - 0s 3ms/step - loss: 237662.9219 - rmse: 237662.9219\n",
            "Epoch 39/100\n",
            "115/115 [==============================] - 0s 3ms/step - loss: 236995.5781 - rmse: 236995.5781\n",
            "Epoch 40/100\n",
            "115/115 [==============================] - 0s 3ms/step - loss: 236131.6250 - rmse: 236131.6250\n",
            "Epoch 41/100\n",
            "115/115 [==============================] - 0s 4ms/step - loss: 237647.6406 - rmse: 237647.6406\n",
            "Epoch 42/100\n",
            "115/115 [==============================] - 1s 6ms/step - loss: 233102.5156 - rmse: 233102.5156\n",
            "Epoch 43/100\n",
            "115/115 [==============================] - 1s 5ms/step - loss: 235279.3750 - rmse: 235279.3750\n",
            "Epoch 44/100\n",
            "115/115 [==============================] - 0s 3ms/step - loss: 234040.9688 - rmse: 234040.9688\n",
            "Epoch 45/100\n",
            "115/115 [==============================] - 1s 6ms/step - loss: 232806.2500 - rmse: 232806.2500\n",
            "Epoch 46/100\n",
            "115/115 [==============================] - 1s 6ms/step - loss: 234950.1875 - rmse: 234950.1875\n",
            "Epoch 47/100\n",
            "115/115 [==============================] - 1s 5ms/step - loss: 234574.3281 - rmse: 234574.3281\n",
            "Epoch 48/100\n",
            "115/115 [==============================] - 1s 6ms/step - loss: 233514.2188 - rmse: 233514.2188\n",
            "Epoch 49/100\n",
            "115/115 [==============================] - 1s 6ms/step - loss: 232200.5156 - rmse: 232200.5156\n",
            "Epoch 50/100\n",
            "115/115 [==============================] - 1s 5ms/step - loss: 233040.1250 - rmse: 233040.1250\n",
            "Epoch 51/100\n",
            "115/115 [==============================] - 1s 5ms/step - loss: 233513.5938 - rmse: 233513.5938\n",
            "Epoch 52/100\n",
            "115/115 [==============================] - 0s 3ms/step - loss: 233851.1875 - rmse: 233851.1875\n",
            "Epoch 53/100\n",
            "115/115 [==============================] - 0s 3ms/step - loss: 232823.2188 - rmse: 232823.2188\n",
            "Epoch 54/100\n",
            "115/115 [==============================] - 0s 3ms/step - loss: 232650.8594 - rmse: 232650.8594\n",
            "Epoch 55/100\n",
            "115/115 [==============================] - 0s 3ms/step - loss: 233707.3750 - rmse: 233707.3750\n",
            "Epoch 56/100\n",
            "115/115 [==============================] - 0s 3ms/step - loss: 232683.2500 - rmse: 232683.2500\n",
            "Epoch 57/100\n",
            "115/115 [==============================] - 0s 3ms/step - loss: 232569.7500 - rmse: 232569.7500\n",
            "Epoch 58/100\n",
            "115/115 [==============================] - 0s 3ms/step - loss: 232089.7188 - rmse: 232089.7188\n",
            "Epoch 59/100\n",
            "115/115 [==============================] - 0s 4ms/step - loss: 230781.5312 - rmse: 230781.5312\n",
            "Epoch 60/100\n",
            "115/115 [==============================] - 1s 5ms/step - loss: 231839.2656 - rmse: 231839.2656\n",
            "Epoch 61/100\n",
            "115/115 [==============================] - 1s 5ms/step - loss: 230954.9531 - rmse: 230954.9531\n",
            "Epoch 62/100\n",
            "115/115 [==============================] - 0s 4ms/step - loss: 231325.7969 - rmse: 231325.7969\n",
            "Epoch 63/100\n",
            "115/115 [==============================] - 1s 5ms/step - loss: 231203.0312 - rmse: 231203.0312\n",
            "Epoch 64/100\n",
            "115/115 [==============================] - 1s 5ms/step - loss: 232853.2188 - rmse: 232853.2188\n",
            "Epoch 65/100\n",
            "115/115 [==============================] - 1s 5ms/step - loss: 229939.9844 - rmse: 229939.9844\n",
            "Epoch 66/100\n",
            "115/115 [==============================] - 1s 5ms/step - loss: 232037.7500 - rmse: 232037.7500\n",
            "Epoch 67/100\n",
            "115/115 [==============================] - 1s 5ms/step - loss: 232412.1094 - rmse: 232412.1094\n",
            "Epoch 68/100\n",
            "115/115 [==============================] - 1s 6ms/step - loss: 229383.7344 - rmse: 229383.7344\n",
            "Epoch 69/100\n",
            "115/115 [==============================] - 0s 4ms/step - loss: 232627.4844 - rmse: 232627.4844\n",
            "Epoch 70/100\n",
            "115/115 [==============================] - 0s 3ms/step - loss: 231211.2812 - rmse: 231211.2812\n",
            "Epoch 71/100\n",
            "115/115 [==============================] - 0s 3ms/step - loss: 230605.0312 - rmse: 230605.0312\n",
            "Epoch 72/100\n",
            "115/115 [==============================] - 0s 3ms/step - loss: 231162.6250 - rmse: 231162.6250\n",
            "Epoch 73/100\n",
            "115/115 [==============================] - 0s 3ms/step - loss: 230322.7344 - rmse: 230322.7344\n",
            "Epoch 74/100\n",
            "115/115 [==============================] - 0s 3ms/step - loss: 230697.4531 - rmse: 230697.4531\n",
            "Epoch 75/100\n",
            "115/115 [==============================] - 0s 3ms/step - loss: 230706.9219 - rmse: 230706.9219\n",
            "Epoch 76/100\n",
            "115/115 [==============================] - 0s 3ms/step - loss: 228834.6406 - rmse: 228834.6406\n",
            "Epoch 77/100\n",
            "115/115 [==============================] - 0s 3ms/step - loss: 229564.6406 - rmse: 229564.6406\n",
            "Epoch 78/100\n",
            "115/115 [==============================] - 0s 3ms/step - loss: 230743.8438 - rmse: 230743.8438\n",
            "Epoch 79/100\n",
            "115/115 [==============================] - 0s 3ms/step - loss: 230158.3281 - rmse: 230158.3281\n",
            "Epoch 80/100\n",
            "115/115 [==============================] - 0s 3ms/step - loss: 230123.9062 - rmse: 230123.9062\n",
            "Epoch 81/100\n",
            "115/115 [==============================] - 0s 3ms/step - loss: 229518.0625 - rmse: 229518.0625\n",
            "Epoch 82/100\n",
            "115/115 [==============================] - 0s 3ms/step - loss: 229622.5156 - rmse: 229622.5156\n",
            "Epoch 83/100\n",
            "115/115 [==============================] - 0s 3ms/step - loss: 229686.0312 - rmse: 229686.0312\n",
            "Epoch 84/100\n",
            "115/115 [==============================] - 0s 3ms/step - loss: 230517.1875 - rmse: 230517.1875\n",
            "Epoch 85/100\n",
            "115/115 [==============================] - 0s 3ms/step - loss: 229220.3594 - rmse: 229220.3594\n",
            "Epoch 86/100\n",
            "115/115 [==============================] - 0s 3ms/step - loss: 228620.2656 - rmse: 228620.2656\n",
            "Epoch 87/100\n",
            "115/115 [==============================] - 0s 3ms/step - loss: 228099.9375 - rmse: 228099.9375\n",
            "Epoch 88/100\n",
            "115/115 [==============================] - 0s 3ms/step - loss: 230447.4062 - rmse: 230447.4062\n",
            "Epoch 89/100\n",
            "115/115 [==============================] - 0s 3ms/step - loss: 229000.6406 - rmse: 229000.6406\n",
            "Epoch 90/100\n",
            "115/115 [==============================] - 0s 3ms/step - loss: 229607.5781 - rmse: 229607.5781\n",
            "Epoch 91/100\n",
            "115/115 [==============================] - 0s 3ms/step - loss: 228335.0938 - rmse: 228335.0938\n",
            "Epoch 92/100\n",
            "115/115 [==============================] - 0s 3ms/step - loss: 225925.9062 - rmse: 225925.9062\n",
            "Epoch 93/100\n",
            "115/115 [==============================] - 1s 5ms/step - loss: 227936.3438 - rmse: 227936.3438\n",
            "Epoch 94/100\n",
            "115/115 [==============================] - 1s 5ms/step - loss: 228467.6250 - rmse: 228467.6250\n",
            "Epoch 95/100\n",
            "115/115 [==============================] - 0s 4ms/step - loss: 228490.3438 - rmse: 228490.3438\n",
            "Epoch 96/100\n",
            "115/115 [==============================] - 1s 5ms/step - loss: 227088.5000 - rmse: 227088.5000\n",
            "Epoch 97/100\n",
            "115/115 [==============================] - 1s 6ms/step - loss: 227888.9062 - rmse: 227888.9062\n",
            "Epoch 98/100\n",
            "115/115 [==============================] - 1s 5ms/step - loss: 227161.5000 - rmse: 227161.5000\n",
            "Epoch 99/100\n",
            "115/115 [==============================] - 1s 6ms/step - loss: 227613.4062 - rmse: 227613.4062\n",
            "Epoch 100/100\n",
            "115/115 [==============================] - 1s 5ms/step - loss: 227798.9062 - rmse: 227798.9062\n"
          ]
        },
        {
          "output_type": "execute_result",
          "data": {
            "text/plain": [
              "<keras.callbacks.History at 0x7f7d4172b290>"
            ]
          },
          "metadata": {},
          "execution_count": 30
        }
      ]
    },
    {
      "cell_type": "code",
      "source": [
        "predictions=model.predict(X_test_tf_2A)"
      ],
      "metadata": {
        "id": "4QJvJ89UZTEn"
      },
      "execution_count": null,
      "outputs": []
    },
    {
      "cell_type": "code",
      "source": [
        "predictions[:5]"
      ],
      "metadata": {
        "colab": {
          "base_uri": "https://localhost:8080/"
        },
        "id": "Q7FHt7tLZYSO",
        "outputId": "96c798e8-b477-43a0-acd0-84d53e30ae84"
      },
      "execution_count": null,
      "outputs": [
        {
          "output_type": "execute_result",
          "data": {
            "text/plain": [
              "array([[ 319128.78],\n",
              "       [ 351999.7 ],\n",
              "       [1264626.6 ],\n",
              "       [ 511028.25],\n",
              "       [ 374443.03]], dtype=float32)"
            ]
          },
          "metadata": {},
          "execution_count": 32
        }
      ]
    },
    {
      "cell_type": "code",
      "source": [
        "predictions_1A=np.ravel(predictions)\n",
        "predictions_1A[0:5]"
      ],
      "metadata": {
        "colab": {
          "base_uri": "https://localhost:8080/"
        },
        "id": "nDglEhcVZavy",
        "outputId": "0653f79d-8fc6-4325-f000-a862f6074d08"
      },
      "execution_count": null,
      "outputs": [
        {
          "output_type": "execute_result",
          "data": {
            "text/plain": [
              "array([ 319128.78,  351999.7 , 1264626.6 ,  511028.25,  374443.03],\n",
              "      dtype=float32)"
            ]
          },
          "metadata": {},
          "execution_count": 33
        }
      ]
    },
    {
      "cell_type": "code",
      "source": [
        "rmse(Y_test,predictions_1A).numpy()"
      ],
      "metadata": {
        "colab": {
          "base_uri": "https://localhost:8080/"
        },
        "id": "O6YOxaAdZeTn",
        "outputId": "2416d253-e1cd-443a-f16c-30004b5d3394"
      },
      "execution_count": null,
      "outputs": [
        {
          "output_type": "execute_result",
          "data": {
            "text/plain": [
              "992087.8834485215"
            ]
          },
          "metadata": {},
          "execution_count": 34
        }
      ]
    },
    {
      "cell_type": "code",
      "source": [
        ""
      ],
      "metadata": {
        "id": "Dhu6xbs7Zhft"
      },
      "execution_count": null,
      "outputs": []
    }
  ]
}